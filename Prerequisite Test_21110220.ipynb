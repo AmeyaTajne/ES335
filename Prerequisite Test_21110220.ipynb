{
 "cells": [
  {
   "cell_type": "markdown",
   "metadata": {},
   "source": [
    "How many multiplications and additions do you need to perform a matrix multiplication between a (n, k) and (k, m) matrix? Explain ?\n",
    "\n",
    "\n",
    "Answer : - Lets us say that we have this matrix provided below\n",
    "$$\n",
    "\\left(\\begin{array}{cc} \n",
    "a & b\\\\\n",
    "c & d\n",
    "\\end{array}\\right)\n",
    "\\left(\\begin{array}{cc} \n",
    "e & f\\\\ \n",
    "g & h\n",
    "\\end{array}\\right)\n",
    "$$\n",
    "\n",
    "the answer of this would be\n",
    "\n",
    "$$\n",
    "\\left(\\begin{array}{cc} \n",
    "ae +bg & af + bh\\\\\n",
    "ce + dg & cf + dh\n",
    "\\end{array}\\right)\n",
    "$$\n",
    "\n",
    "So from this we can see that each element of this 2x2 matrix required 2 multiplication and 1 addtion therefore for the 4 element it would require 8 multiplication and 4 addtion in total\n",
    "\n",
    "for the general $N\\times K$ and $K\\times M$ it would require $N \\times K \\times M$\n",
    " multiplication and $N \\times K-1 \\times M$\n",
    " additions"
   ]
  },
  {
   "cell_type": "markdown",
   "metadata": {},
   "source": [
    "Write Python code to multiply the above two matrices. Solve using list of lists and then use numpy. Compare the timing of both solutions. Which one is faster? Why?\n",
    "\n",
    "Answer:- "
   ]
  },
  {
   "cell_type": "code",
   "execution_count": 33,
   "metadata": {},
   "outputs": [
    {
     "name": "stdout",
     "output_type": "stream",
     "text": [
      "Time for the list of list method =  0.10509705543518066\n",
      "Time for the numpy method =  0.03393077850341797\n"
     ]
    }
   ],
   "source": [
    "import random\n",
    "import numpy as np\n",
    "import time\n",
    "# Let us assume the values\n",
    "\n",
    "n=200\n",
    "k=300\n",
    "m=400\n",
    "\n",
    "#create function to create the ramdon matrix\n",
    "\n",
    "def mat(n,k):\n",
    "    return [[random.randint(1,100) for i in range(k)] for i in range(n)]\n",
    "\n",
    "start_time = time.time()\n",
    "\n",
    "nxk=mat(n,k)\n",
    "kxm=mat(k,m)\n",
    "result=mat(n,m)\n",
    "\n",
    "for i in range(n):\n",
    "        for j in range(m):\n",
    "            for k in range(k):\n",
    "                result[i][j] += nxk[i][k] * kxm[k][j]\n",
    "time1=time.time()-start_time\n",
    "\n",
    "# Now convert this into numpy array\n",
    "start_time = time.time()\n",
    "nxk=np.array(nxk)\n",
    "kxm=np.array(kxm)\n",
    "result=np.dot(nxk,kxm)\n",
    "\n",
    "time2=time.time()-start_time\n",
    "\n",
    "print('Time for the list of list method = ',time1)\n",
    "print('Time for the numpy method = ',time2)\n"
   ]
  },
  {
   "cell_type": "markdown",
   "metadata": {},
   "source": [
    "Finding the highest element in a list requires one pass of the array. Finding the second highest element requires 2 passes of the the array. Using this method, what is the time complexity of finding the median of the array? Can you suggest a better method? Can you implement both these methods in Python and compare against numpy.median routine in terms of time?"
   ]
  },
  {
   "cell_type": "code",
   "execution_count": 54,
   "metadata": {},
   "outputs": [
    {
     "name": "stdout",
     "output_type": "stream",
     "text": [
      "Array: [32, 50, 21, 31, 84, 68, 77, 12, 55, 22]\n",
      "Median: 80.5\n",
      "Largerst number =  9998\n",
      "median =  1000.0 1001.0\n",
      "second largest =  9995\n",
      "Time for the for loop method method =  0.0\n",
      "Time for the sort method =  0.008012771606445312\n",
      "Time for the numpy.meadian method =  0.0\n"
     ]
    }
   ],
   "source": [
    "import random\n",
    "\n",
    "def sort(array):\n",
    "    x=int(len(array))\n",
    "    array.sort(reverse=True)\n",
    "    print('Largerst number = ', array[0])\n",
    "    \n",
    "    if x%2==0:\n",
    "        print('median = ',x/2,x/2+1)\n",
    "    else:\n",
    "        print('median = ',(x+1/2))\n",
    "    \n",
    "    for i in range(1,x):\n",
    "        if array[i]!=array[0]:\n",
    "            return print(\"second largest = \", array[i])\n",
    "\n",
    "\n",
    "import random\n",
    "\n",
    "def find_median(arr):\n",
    "    highest = float('-inf')\n",
    "    second_highest = float('-inf')\n",
    "\n",
    "    for num in arr:\n",
    "        if num > highest:\n",
    "            second_highest = highest\n",
    "            highest = num\n",
    "        elif num > second_highest:\n",
    "            second_highest = num\n",
    "\n",
    "    if len(arr) % 2 == 1:\n",
    "        return highest\n",
    "    else:\n",
    "        return (highest + second_highest) / 2\n",
    "\n",
    "start_time = time.time()\n",
    "\n",
    "arr = [random.randint(1, 100) for _ in range(10)]\n",
    "\n",
    "\n",
    "median = find_median(arr)\n",
    "\n",
    "time1=time.time()-start_time\n",
    "\n",
    "print(f\"Array: {arr}\")\n",
    "print(f\"Median: {median}\")\n",
    "\n",
    "start_time = time.time()\n",
    "\n",
    "test_array = [random.randint(1,10000) for i in range(2000)]\n",
    "sort(test_array)\n",
    "time2=time.time()-start_time\n",
    "\n",
    "start_time = time.time()\n",
    "\n",
    "np.median(test_array)\n",
    "\n",
    "\n",
    "time3=time.time()-start_time\n",
    "\n",
    "print('Time for the for loop method method = ',time1)\n",
    "print('Time for the sort method = ',time2)\n",
    "print('Time for the numpy.meadian method = ',time3)\n"
   ]
  },
  {
   "cell_type": "markdown",
   "metadata": {},
   "source": [
    "What is the gradient of the following function with respect to x and y?\n",
    "\n",
    "\n",
    "Answer: We know that gradient of $x^{2} y +y^{3}sin(x)$\n",
    "would be $\\displaystyle \\frac{\\partial x^{2} y +y^{3}sin(x)}{\\partial x} \\hat{i}$ + $\\displaystyle \\frac{\\partial x^{2} y +y^{3}sin(x)}{\\partial y} \\hat{j}$\n",
    "\n",
    "this on solving would give $(2xy+y^{3}\\cos(x))\\hat{i}+(x^{2} y +3y^{2}sin(x))\\hat{j}$"
   ]
  },
  {
   "cell_type": "code",
   "execution_count": 43,
   "metadata": {},
   "outputs": [
    {
     "name": "stdout",
     "output_type": "stream",
     "text": [
      "Grad of the given expression is = 396.0419174483615 i + 5886.664132175968 j\n",
      "Gradient of the given expression using JAX is: (Array(396.0419, dtype=float32, weak_type=True), Array(5886.664, dtype=float32, weak_type=True))\n"
     ]
    }
   ],
   "source": [
    "import jax\n",
    "import jax.numpy as jnp\n",
    "\n",
    "# Define a function to differentiate\n",
    "def fun(x, y):\n",
    "    return x**2 * y + y**3 * jnp.sin(x)\n",
    "\n",
    "# Generate random numbers\n",
    "x=np.random.uniform(1,100)\n",
    "y=np.random.uniform(1,100)\n",
    "\n",
    "x_cap = 2 * x * y + y**3 * np.cos(x)\n",
    "y_cap = x**2 + 3 * y**2 * np.sin(x)\n",
    "print(\"Grad of the given expression is =\", x_cap, \"i +\", y_cap, \"j\")\n",
    "\n",
    "\n",
    "# Use jax.grad with argnums\n",
    "gradient = jax.grad(fun, argnums=(0, 1))(x,y)\n",
    "\n",
    "# Print the result\n",
    "print(\"Gradient of the given expression using JAX is:\", gradient)"
   ]
  },
  {
   "cell_type": "markdown",
   "metadata": {},
   "source": [
    "Use sympy to confirm that you obtain the same gradient analytically."
   ]
  },
  {
   "cell_type": "code",
   "execution_count": 17,
   "metadata": {},
   "outputs": [
    {
     "name": "stdout",
     "output_type": "stream",
     "text": [
      "2*x*y + y**3*cos(x) x**2 + 3*y**2*sin(x)\n",
      "36251.5307864555\n",
      "-14566.1944709440\n"
     ]
    }
   ],
   "source": [
    "from sympy import *\n",
    "import random\n",
    "\n",
    "x, y = symbols('x y')\n",
    "\n",
    "init_printing(use_unicode=True)\n",
    "\n",
    "exrp=x**2 * y + y**3 * sin(x)\n",
    "i_cap=diff(exrp,x)\n",
    "j_cap=diff(exrp,y)\n",
    "print(i_cap,j_cap)\n",
    "random.seed(43)\n",
    "\n",
    "x_val=random.uniform(1,100)\n",
    "y_val=random.uniform(1,100)\n",
    "print(i_cap.subs({x:x_val,y:y_val}))\n",
    "print(j_cap.subs({x:x_val,y:y_val}))\n"
   ]
  },
  {
   "cell_type": "markdown",
   "metadata": {},
   "source": [
    "Create a Python nested dictionary to represent hierarchical information. We want to store record of students and their marks. Something like:\n",
    "\n",
    "    2022\n",
    "        Branch 1\n",
    "            Roll Number: 1, Name: N, Marks:\n",
    "                Maths: 100, English: 70 …\n",
    "        Branch 2\n",
    "    2023\n",
    "        Branch 1\n",
    "        Branch 2\n",
    "    2024\n",
    "        Branch 1\n",
    "        Branch 2\n",
    "    2025\n",
    "        Branch 1\n",
    "        Branch 2\n"
   ]
  },
  {
   "cell_type": "code",
   "execution_count": 38,
   "metadata": {},
   "outputs": [
    {
     "name": "stdout",
     "output_type": "stream",
     "text": [
      "{'Branch 1': {'Roll_Number': 1, ' Name': 'Ameya', 'Marks': {'Maths': 100, 'English': 70}}, 'Branch 2': {'Roll_Number': 2, ' Name': 'Bmeya', 'Marks': {'Maths': 100, 'English': 70}}}\n",
      "2022\n",
      "    Branch 1\n",
      "        Roll Number: 1, Name: N, Marks: {'Maths': 100, 'English': 70}\n",
      "    Branch 2\n",
      "        Roll Number: 2, Name: M, Marks: {'Maths': 90, 'English': 80}\n",
      "2023\n",
      "    Branch 1\n",
      "        Roll Number: 3, Name: P, Marks: {'Maths': 95, 'English': 75}\n"
     ]
    }
   ],
   "source": [
    "diction={2022:\n",
    "    {'Branch 1':{\n",
    "        'Roll_Number': 1,' Name': 'Ameya','Marks':{'Maths': 100, 'English': 70}\n",
    "      },\n",
    "        'Branch 2':\n",
    "            {'Roll_Number': 2,' Name': 'Bmeya','Marks':{'Maths': 100, 'English': 70}\n",
    "             }\n",
    "            },\n",
    "    2023:\n",
    "        {'Branch 1':{\n",
    "        'Roll_Number': 3,' Name': 'Cmeya','Marks':{'Maths': 100, 'English': 70}\n",
    "      },\n",
    "        'Branch 2':\n",
    "            {'Roll_Number': 4,' Name': 'Dmeya','Marks':{'Maths': 100, 'English': 70}\n",
    "             }\n",
    "            },\n",
    "        2024:\n",
    "             {'Branch 1':{\n",
    "        'Roll_Number': 5,' Name': 'Emeya','Marks':{'Maths': 100, 'English': 70}\n",
    "      },\n",
    "        'Branch 2':\n",
    "            {'Roll_Number': 6,' Name': 'Fmeya','Marks':{'Maths': 100, 'English': 70}\n",
    "             }\n",
    "            },\n",
    "2025:\n",
    "{'Branch 1':{\n",
    "        'Roll_Number': 7,' Name': 'Gmeya','Marks':{'Maths': 100, 'English': 70}\n",
    "      },\n",
    "        'Branch 2':\n",
    "            {'Roll_Number': 8,' Name': 'Hmeya','Marks':{'Maths': 100, 'English': 70}\n",
    "             }\n",
    "            }}\n",
    "\n",
    "print(diction[2022])\n",
    "\n",
    "\n",
    "#Using class\n",
    "class StudentRecord:\n",
    "    def __init__(self, year, branch, roll_number, name, marks):\n",
    "        self.year = year\n",
    "        self.branch = branch\n",
    "        self.roll_number = roll_number\n",
    "        self.name = name\n",
    "        self.marks = marks\n",
    "\n",
    "class StudentDatabase:\n",
    "    def __init__(self):\n",
    "        self.database = {}\n",
    "\n",
    "    def add_student_record(self, student_record):\n",
    "        if student_record.year not in self.database:\n",
    "            self.database[student_record.year] = {}\n",
    "        if student_record.branch not in self.database[student_record.year]:\n",
    "            self.database[student_record.year][student_record.branch] = []\n",
    "        self.database[student_record.year][student_record.branch].append({\n",
    "            'Roll Number': student_record.roll_number,\n",
    "            'Name': student_record.name,\n",
    "            'Marks': student_record.marks\n",
    "        })\n",
    "\n",
    "    def display_database(self):\n",
    "        for year, branches in self.database.items():\n",
    "            print(f\"{year}\")\n",
    "            for branch, students in branches.items():\n",
    "                print(f\"    {branch}\")\n",
    "                for student in students:\n",
    "                    print(f\"        Roll Number: {student['Roll Number']}, Name: {student['Name']}, Marks: {student['Marks']}\")\n",
    "\n",
    "# Example usage:\n",
    "# Create instances of StudentRecord and add them to the database\n",
    "\n",
    "student_db = StudentDatabase()\n",
    "\n",
    "record1 = StudentRecord(2022, 'Branch 1', 1, 'N', {'Maths': 100, 'English': 70})\n",
    "record2 = StudentRecord(2022, 'Branch 2', 2, 'M', {'Maths': 90, 'English': 80})\n",
    "record3 = StudentRecord(2023, 'Branch 1', 3, 'P', {'Maths': 95, 'English': 75})\n",
    "\n",
    "student_db.add_student_record(record1)\n",
    "student_db.add_student_record(record2)\n",
    "student_db.add_student_record(record3)\n",
    "\n",
    "# Display the database\n",
    "student_db.display_database()\n",
    "\n"
   ]
  },
  {
   "cell_type": "markdown",
   "metadata": {},
   "source": [
    "Using matplotlib plot the following functions on the domain: x = 0.5 to 100.0 in steps of 0.5."
   ]
  },
  {
   "cell_type": "code",
   "execution_count": null,
   "metadata": {},
   "outputs": [],
   "source": [
    "import numpy as np\n",
    "import matplotlib.pyplot as plt\n",
    "\n",
    "x=np.arange(0.5,100.5,0.5)\n",
    "#x=y\n",
    "y=x\n",
    "plt.figure()\n",
    "plt.plot(x,y,label=\"x=y\")\n",
    "\n",
    "y=x**2\n",
    "plt.figure()\n",
    "plt.plot(x,y,label=\"y=x^2\")\n",
    "\n",
    "y=np.sin(x)\n",
    "plt.figure()\n",
    "plt.plot(x,y,label=\"y=sin(x)\")\n",
    "\n",
    "y=np.sin(x)/x\n",
    "plt.figure()\n",
    "plt.plot(x,y,label=\"y=sin(x)/x\")\n",
    "\n",
    "y=np.log(x)\n",
    "plt.figure()\n",
    "plt.plot(x,y,label=\"y=log(x)\")\n",
    "\n",
    "y=np.exp(x)\n",
    "plt.figure()\n",
    "plt.plot(x,y,label=\"y=e^(x)\")"
   ]
  },
  {
   "cell_type": "markdown",
   "metadata": {},
   "source": [
    "Using numpy generate a matrix of size 20X5 containing random numbers drawn uniformly from the range of 1 to 2. Using Pandas create a dataframe out of this matrix. Name the columns of the dataframe as “a”, “b”, “c”, “d”, “e”. Find the column with the highest standard deviation. Find the row with the lowest mean."
   ]
  },
  {
   "cell_type": "code",
   "execution_count": null,
   "metadata": {},
   "outputs": [],
   "source": [
    "import pandas as pd\n",
    "import numpy as np\n",
    "\n",
    "\n",
    "matrix=np.random.uniform(1,2,size=(20,5))\n",
    "\n",
    "print(matrix)\n",
    "\n",
    "matrix=pd.DataFrame(matrix)\n",
    "\n",
    "matrix.columns=['a','b','c','d','e']\n",
    "\n",
    "print(matrix)\n",
    "\n",
    "Std_Dev=matrix.std().sort_values(ascending=False)\n",
    "print(matrix.std())\n",
    "\n",
    "print(\"THe highest standard deviation is  \",Std_Dev[0])\n",
    "\n",
    "matrix['Mean']=(matrix['a']+matrix['b']+matrix['c']+matrix['d']+matrix['e'])/5\n",
    "print(matrix)\n",
    "\n",
    "print('The minimum value of the mean is ',matrix['Mean'].min())"
   ]
  },
  {
   "cell_type": "markdown",
   "metadata": {},
   "source": [
    "Add a new column to the dataframe called “f” which is the sum of the columns “a”, “b”, “c”, “d”, “e”. Create another column called “g”. The value in the column “g” should be “LT8” if the value in the column “f” is less than 8 and “GT8” otherwise. Find the number of rows in the dataframe where the value in the column “g” is “LT8”. Find the standard deviation of the column “f” for the rows where the value in the column “g” is “LT8” and “GT8” respectively.\n"
   ]
  },
  {
   "cell_type": "code",
   "execution_count": 27,
   "metadata": {},
   "outputs": [
    {
     "name": "stdout",
     "output_type": "stream",
     "text": [
      "[[1.3971383  1.01615019 1.96120082 1.60403031 1.56491923]\n",
      " [1.97296106 1.45709537 1.33541861 1.52448978 1.08267202]\n",
      " [1.47320037 1.0008576  1.67578643 1.56019641 1.15750765]\n",
      " [1.33978256 1.54122685 1.46817215 1.17930139 1.22368399]\n",
      " [1.41571538 1.24886423 1.13187649 1.95829587 1.18939363]\n",
      " [1.27136861 1.32055588 1.58587499 1.4500214  1.59594165]\n",
      " [1.77231595 1.39009488 1.22630362 1.02024068 1.62525068]\n",
      " [1.37097218 1.76437639 1.28813715 1.35042714 1.41124004]\n",
      " [1.82699964 1.32068196 1.39162419 1.24612069 1.46882591]\n",
      " [1.73947683 1.31179594 1.65056358 1.35408274 1.04730884]\n",
      " [1.71013237 1.54003321 1.97701468 1.70805023 1.99002063]\n",
      " [1.73920783 1.36813106 1.12957686 1.17697718 1.56433971]\n",
      " [1.06950024 1.54441771 1.50199408 1.99176212 1.66498776]\n",
      " [1.00342055 1.37472267 1.04795381 1.39552228 1.86201094]\n",
      " [1.2547384  1.66919192 1.17336654 1.73450883 1.07604159]\n",
      " [1.42371446 1.28986621 1.36552003 1.92774232 1.86849808]\n",
      " [1.10403129 1.33101624 1.63441213 1.25222278 1.36396466]\n",
      " [1.86750716 1.2266036  1.80798033 1.62918553 1.88646166]\n",
      " [1.86238481 1.03614372 1.28177701 1.48772125 1.79393122]\n",
      " [1.46192821 1.88196934 1.31864404 1.9464489  1.7152581 ]]\n",
      "           a         b         c         d         e         F    G\n",
      "0   1.397138  1.016150  1.961201  1.604030  1.564919  7.543439  LT8\n",
      "1   1.972961  1.457095  1.335419  1.524490  1.082672  7.372637  LT8\n",
      "2   1.473200  1.000858  1.675786  1.560196  1.157508  6.867548  LT8\n",
      "3   1.339783  1.541227  1.468172  1.179301  1.223684  6.752167  LT8\n",
      "4   1.415715  1.248864  1.131876  1.958296  1.189394  6.944146  LT8\n",
      "5   1.271369  1.320556  1.585875  1.450021  1.595942  7.223763  LT8\n",
      "6   1.772316  1.390095  1.226304  1.020241  1.625251  7.034206  LT8\n",
      "7   1.370972  1.764376  1.288137  1.350427  1.411240  7.185153  LT8\n",
      "8   1.827000  1.320682  1.391624  1.246121  1.468826  7.254252  LT8\n",
      "9   1.739477  1.311796  1.650564  1.354083  1.047309  7.103228  LT8\n",
      "10  1.710132  1.540033  1.977015  1.708050  1.990021  8.925251  GT8\n",
      "11  1.739208  1.368131  1.129577  1.176977  1.564340  6.978233  LT8\n",
      "12  1.069500  1.544418  1.501994  1.991762  1.664988  7.772662  LT8\n",
      "13  1.003421  1.374723  1.047954  1.395522  1.862011  6.683630  LT8\n",
      "14  1.254738  1.669192  1.173367  1.734509  1.076042  6.907847  LT8\n",
      "15  1.423714  1.289866  1.365520  1.927742  1.868498  7.875341  LT8\n",
      "16  1.104031  1.331016  1.634412  1.252223  1.363965  6.685647  LT8\n",
      "17  1.867507  1.226604  1.807980  1.629186  1.886462  8.417738  GT8\n",
      "18  1.862385  1.036144  1.281777  1.487721  1.793931  7.461958  LT8\n",
      "19  1.461928  1.881969  1.318644  1.946449  1.715258  8.324249  GT8\n",
      " 17\n",
      "0.32339697506189036\n",
      "0.3579280334795514\n"
     ]
    }
   ],
   "source": [
    "import pandas as pd\n",
    "import numpy as np\n",
    "\n",
    "\n",
    "matrix=np.random.uniform(1,2,size=(20,5))\n",
    "\n",
    "print(matrix)\n",
    "\n",
    "matrix=pd.DataFrame(matrix)\n",
    "\n",
    "matrix.columns=['a','b','c','d','e']\n",
    "\n",
    "\n",
    "\n",
    "matrix['F']=(matrix['a']+matrix['b']+matrix['c']+matrix['d']+matrix['e'])\n",
    "\n",
    "matrix['G']=np.where(matrix['F']<8,'LT8','GT8')\n",
    "LT8=(matrix['G']=='LT8').sum()\n",
    "\n",
    "std_LT8=matrix[matrix['G']=='LT8'][\"F\"].std()\n",
    "\n",
    "std_GT8=matrix[matrix['G']=='GT8'][\"F\"].std()\n",
    "\n",
    "print(matrix)\n",
    "print(\"\",LT8)\n",
    "print(std_GT8)\n",
    "print(std_LT8)"
   ]
  },
  {
   "cell_type": "code",
   "execution_count": 31,
   "metadata": {},
   "outputs": [
    {
     "name": "stdout",
     "output_type": "stream",
     "text": [
      "900948\n"
     ]
    }
   ],
   "source": [
    "class employee:\n",
    "    def __init__(self,first,last,pay):\n",
    "        self.first=first\n",
    "        self.last=last\n",
    "        self.pay=pay\n",
    "        self.email= first+'.'+last+'@company.com'\n",
    "\n",
    "emp_1=employee('Ameya',\"Tajne\",900948)\n",
    "\n",
    "print(emp_1.pay)"
   ]
  },
  {
   "cell_type": "markdown",
   "metadata": {},
   "source": [
    "Write a small piece of code to explain broadcasting in numpy."
   ]
  },
  {
   "cell_type": "code",
   "execution_count": 41,
   "metadata": {},
   "outputs": [
    {
     "name": "stdout",
     "output_type": "stream",
     "text": [
      "[ 3  5  8 10]\n",
      "[[3 4 5]\n",
      " [4 5 6]\n",
      " [6 7 8]]\n"
     ]
    }
   ],
   "source": [
    "import numpy as np\n",
    "\n",
    "#If we have two 1x4 matrix and perform this basic task \n",
    "\n",
    "A=np.array([1, 2, 3, 4])\n",
    "B=np.array([2, 3, 5, 6])\n",
    "\n",
    "print(A+B)\n",
    "\n",
    "#There is no broadcasting error\n",
    "#Now what if we add/substract 1x4 matrix with 1x3 matrix\n",
    "\n",
    "A=np.array([1, 2, 3, 4])\n",
    "B=np.array([2, 3, 5])\n",
    "\n",
    "print(A+B)\n",
    "\n",
    "#WE get this broadcasting error\n",
    "#ValueError: operands could not be broadcast together with shapes (4,) (3,)\n",
    "\n",
    "#But what would happen if we perform addtion on 1X3 and 3x1 matrix ?\n",
    "\n",
    "A=np.array([1, 2, 3])\n",
    "B=np.array([[2], [3], [5]])\n",
    "\n",
    "print(A+B)\n",
    "\n",
    "#We get the seemless addition"
   ]
  },
  {
   "cell_type": "markdown",
   "metadata": {},
   "source": [
    "Write a function to compute the argmin of a numpy array. The function should take a numpy array as input and return the index of the minimum element. You can use the np.argmin function to verify your solution."
   ]
  },
  {
   "cell_type": "code",
   "execution_count": 52,
   "metadata": {},
   "outputs": [
    {
     "name": "stdout",
     "output_type": "stream",
     "text": [
      "[63.873200401113294, 13.159772980533324, 84.79570340892924, 24.507891425243344, 85.65497058173044, 83.74953898027863, 34.861301390775736, 41.52700660405151, 52.92748829817764, 22.848897745087257]\n",
      "using the custom function the argmin =  1\n",
      "using the argmin the argmin is  1\n"
     ]
    }
   ],
   "source": [
    "import numpy as np \n",
    "import random\n",
    "\n",
    "def fun(x):\n",
    "    n=int(len(x))\n",
    "    min=x[0]\n",
    "    for i in range (1,n):\n",
    "        if x[i]<=min:\n",
    "            min_ind=i\n",
    "            min=x[i]\n",
    "            \n",
    "    return min_ind\n",
    "\n",
    "\n",
    "\n",
    "        \n",
    "\n",
    "x=[np.random.uniform(1,100) for i in range(10)]\n",
    "\n",
    "print(x)\n",
    "print(\"using the custom function the argmin = \",fun(x))\n",
    "\n",
    "print(\"using the argmin the argmin is \",np.argmin(x))"
   ]
  }
 ],
 "metadata": {
  "kernelspec": {
   "display_name": "Python 3",
   "language": "python",
   "name": "python3"
  },
  "language_info": {
   "codemirror_mode": {
    "name": "ipython",
    "version": 3
   },
   "file_extension": ".py",
   "mimetype": "text/x-python",
   "name": "python",
   "nbconvert_exporter": "python",
   "pygments_lexer": "ipython3",
   "version": "3.12.1"
  }
 },
 "nbformat": 4,
 "nbformat_minor": 2
}
